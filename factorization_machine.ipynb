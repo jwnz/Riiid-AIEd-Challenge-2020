{
 "cells": [
  {
   "cell_type": "code",
   "execution_count": 1,
   "metadata": {},
   "outputs": [
    {
     "data": {
      "text/html": [
       "<style type='text/css'>\n",
       ".datatable table.frame { margin-bottom: 0; }\n",
       ".datatable table.frame thead { border-bottom: none; }\n",
       ".datatable table.frame tr.coltypes td {  color: #FFFFFF;  line-height: 6px;  padding: 0 0.5em;}\n",
       ".datatable .bool    { background: #DDDD99; }\n",
       ".datatable .object  { background: #565656; }\n",
       ".datatable .int     { background: #5D9E5D; }\n",
       ".datatable .float   { background: #4040CC; }\n",
       ".datatable .str     { background: #CC4040; }\n",
       ".datatable .row_index {  background: var(--jp-border-color3);  border-right: 1px solid var(--jp-border-color0);  color: var(--jp-ui-font-color3);  font-size: 9px;}\n",
       ".datatable .frame tr.coltypes .row_index {  background: var(--jp-border-color0);}\n",
       ".datatable th:nth-child(2) { padding-left: 12px; }\n",
       ".datatable .hellipsis {  color: var(--jp-cell-editor-border-color);}\n",
       ".datatable .vellipsis {  background: var(--jp-layout-color0);  color: var(--jp-cell-editor-border-color);}\n",
       ".datatable .na {  color: var(--jp-cell-editor-border-color);  font-size: 80%;}\n",
       ".datatable .footer { font-size: 9px; }\n",
       ".datatable .frame_dimensions {  background: var(--jp-border-color3);  border-top: 1px solid var(--jp-border-color0);  color: var(--jp-ui-font-color3);  display: inline-block;  opacity: 0.6;  padding: 1px 10px 1px 5px;}\n",
       "</style>\n"
      ],
      "text/plain": [
       "<IPython.core.display.HTML object>"
      ]
     },
     "metadata": {},
     "output_type": "display_data"
    }
   ],
   "source": [
    "import gc\n",
    "import pickle\n",
    "\n",
    "import numpy as np\n",
    "import datatable as dt\n",
    "from tqdm import tqdm"
   ]
  },
  {
   "cell_type": "markdown",
   "metadata": {},
   "source": [
    "<hr>"
   ]
  },
  {
   "cell_type": "markdown",
   "metadata": {},
   "source": [
    "# Preprocessing"
   ]
  },
  {
   "cell_type": "markdown",
   "metadata": {},
   "source": [
    "### Functions"
   ]
  },
  {
   "cell_type": "code",
   "execution_count": 105,
   "metadata": {},
   "outputs": [],
   "source": [
    "np.random.seed(2020)\n",
    "def train_test_val_split(df):\n",
    "    df['train_test'] = np.random.choice([1,2,3], df.nrows, p=[0.8,0.1,0.1])\n",
    "    \n",
    "    train = raw[dt.f.train_test==1, dt.f[:-1]]\n",
    "    test  = raw[dt.f.train_test==2, dt.f[:-1]]\n",
    "    val   = raw[dt.f.train_test==3, dt.f[:-1]]\n",
    "    \n",
    "    return train, test, val\n",
    "\n",
    "def build_mapping_dict(df, column_definition, disable_progress_bar=False):\n",
    "    mapping_dict = {}\n",
    "    ft_ix = 0\n",
    "\n",
    "    for col, meta in tqdm(column_definition.items(), disable=disable_progress_bar):\n",
    "        if meta['type'] == 'label': # skip answer\n",
    "            continue\n",
    "\n",
    "        if meta['type']=='con':\n",
    "            mapping_dict[col] = {\n",
    "                'id': meta['id'],\n",
    "                'features': ft_ix\n",
    "            }\n",
    "            ft_ix += 1\n",
    "\n",
    "        if meta['type']=='cat':\n",
    "            unique = list(dt.unique(df[:, dt.f[col]]).to_pandas()[col])\n",
    "            mapping_dict[col] = {\n",
    "                'id': meta['id'],\n",
    "                'features': {ft:ft_ix+i for i,ft in enumerate(unique)}\n",
    "            }\n",
    "            ft_ix += len(unique)\n",
    "\n",
    "    return mapping_dict\n",
    "            \n",
    "def datatable_to_ffm(output_file, df, column_definition, mapping_dict, batch_size=10000, disable_progress_bar=False, output_delim=' '):\n",
    "    # reorder columns\n",
    "    df = df[:,list(column_definition)]\n",
    "    \n",
    "    with open(output_file, 'w') as f:    \n",
    "        for i in tqdm(range(0, df.nrows, batch_size), disable=disable_progress_bar):\n",
    "\n",
    "            for row in df[i:i+batch_size,:].to_tuples():\n",
    "                line = []\n",
    "                for col, value in zip(column_definition, row):\n",
    "                    # Skip null values\n",
    "                    if value is None:\n",
    "                        continue\n",
    "\n",
    "                    if column_definition[col]['type']=='label':\n",
    "                        line.append(str(value))\n",
    "                    else:\n",
    "                        if column_definition[col]['type'] == 'cat':\n",
    "                            try:\n",
    "                                line.append(f'{column_definition[col][\"id\"]}:{mapping_dict[col][\"features\"][value]}:1')\n",
    "                            except:\n",
    "                                continue\n",
    "                        elif column_definition[col]['type']=='con':\n",
    "                            line.append(f'{column_definition[col][\"id\"]}:{mapping_dict[col][\"features\"]}:{value:.5f}')\n",
    "\n",
    "\n",
    "                line = output_delim.join(line)\n",
    "                f.write(line)\n",
    "                f.write('\\n')"
   ]
  },
  {
   "cell_type": "markdown",
   "metadata": {},
   "source": [
    "### Constants"
   ]
  },
  {
   "cell_type": "code",
   "execution_count": 113,
   "metadata": {},
   "outputs": [],
   "source": [
    "base_dir = '..'\n",
    "riiid_dir = base_dir + '/riiid_data'\n",
    "\n",
    "cols_def = {\n",
    "    'answered_correctly' : {'id':-1, 'type':'label'},\n",
    "    'timestamp'          : {'id': 0, 'type':'cat'},\n",
    "    'user_id'            : {'id': 1, 'type':'cat'},\n",
    "    'content_id'         : {'id': 2, 'type':'cat'},\n",
    "    'part'               : {'id': 3, 'type':'cat'},\n",
    "    'content_mean'       : {'id': 4, 'type':'con'},\n",
    "    'part_mean'          : {'id': 5, 'type':'con'},\n",
    "    'kmeans_label'       : {'id': 6, 'type':'cat'},\n",
    "    'kmeans_mean'        : {'id': 7, 'type':'con'},\n",
    "}\n",
    "\n",
    "train_data_path = 'xlearn_train.txt'\n",
    "test_data_path  = 'xlearn_test.txt'\n",
    "val_data_path   = 'xlearn_val.txt'\n",
    "\n",
    "mapping_dict_path = 'mapping_dict.pkl'"
   ]
  },
  {
   "cell_type": "markdown",
   "metadata": {},
   "source": [
    "### Load data"
   ]
  },
  {
   "cell_type": "code",
   "execution_count": 62,
   "metadata": {},
   "outputs": [],
   "source": [
    "raw = dt.fread(f'{riiid_dir}/train.csv', columns={\n",
    "    'timestamp':dt.int64,\n",
    "    'user_id':dt.int32,\n",
    "    'content_id':dt.int32,\n",
    "    'content_type_id':dt.bool8,\n",
    "    'answered_correctly':dt.int32})\n",
    "\n",
    "raw = raw[dt.f.content_type_id==0, (dt.f.timestamp,\n",
    "                                    dt.f.user_id,\n",
    "                                    dt.f.content_id,\n",
    "                                    dt.int8(dt.f.answered_correctly))]\n",
    "\n",
    "raw[:,dt.update(timestamp=dt.int32(dt.f.timestamp/3.6e+6))]"
   ]
  },
  {
   "cell_type": "code",
   "execution_count": 63,
   "metadata": {},
   "outputs": [],
   "source": [
    "# load the kmeans_labels & covert to dataframe\n",
    "with open(f'{base_dir}/kmeans_labels.pkl', 'rb') as f:\n",
    "    kmeans_labels = pickle.load(f)\n",
    "\n",
    "kmeans_labels = dt.Frame({'content_id':list(kmeans_labels.keys()), 'kmeans_label':list(kmeans_labels.values())})\n",
    "kmeans_labels.names = ('content_id', 'kmeans_label')\n",
    "kmeans_labels.key = 'content_id'"
   ]
  },
  {
   "cell_type": "code",
   "execution_count": 64,
   "metadata": {},
   "outputs": [],
   "source": [
    "# Map questions to parts\n",
    "questions = dt.fread(f'{riiid_dir}/questions.csv')\n",
    "questions = questions[:, [dt.f.question_id, dt.f.part]]\n",
    "questions.names = ('content_id', 'part')\n",
    "questions.key = 'content_id'\n",
    "\n",
    "# Join kmeans_labels to questions\n",
    "questions = questions[:,:,dt.join(kmeans_labels)]\n",
    "questions.key = 'content_id'"
   ]
  },
  {
   "cell_type": "markdown",
   "metadata": {},
   "source": [
    "### Join questions to dataframe"
   ]
  },
  {
   "cell_type": "code",
   "execution_count": 65,
   "metadata": {},
   "outputs": [],
   "source": [
    "raw = raw[:,:,dt.join(questions)]"
   ]
  },
  {
   "cell_type": "markdown",
   "metadata": {},
   "source": [
    "### Train, test, validation split"
   ]
  },
  {
   "cell_type": "code",
   "execution_count": 66,
   "metadata": {},
   "outputs": [
    {
     "data": {
      "text/plain": [
       "102"
      ]
     },
     "execution_count": 66,
     "metadata": {},
     "output_type": "execute_result"
    }
   ],
   "source": [
    "train, test, val = train_test_val_split(raw)\n",
    "\n",
    "# 쓰지 않을 df 치우고 메모리 정리\n",
    "del raw\n",
    "gc.collect()"
   ]
  },
  {
   "cell_type": "markdown",
   "metadata": {},
   "source": [
    "### Feature Generation"
   ]
  },
  {
   "cell_type": "code",
   "execution_count": 67,
   "metadata": {},
   "outputs": [],
   "source": [
    "content_means       = train[:,dt.mean(dt.f.answered_correctly), dt.by(dt.f.content_id)]\n",
    "content_means.names = ('content_id', 'content_mean')\n",
    "content_means.key   = 'content_id'\n",
    "\n",
    "part_means       = train[:,dt.mean(dt.f.answered_correctly), dt.by(dt.f.part)]\n",
    "part_means.names = ('part', 'part_mean')\n",
    "part_means.key   = 'part'\n",
    "\n",
    "kmeans_means       = train[:,dt.mean(dt.f.answered_correctly), dt.by(dt.f.kmeans_label)]\n",
    "kmeans_means.names = ('kmeans_label', 'kmeans_mean')\n",
    "kmeans_means.key   = 'kmeans_label'"
   ]
  },
  {
   "cell_type": "code",
   "execution_count": 68,
   "metadata": {},
   "outputs": [],
   "source": [
    "train = train[:,:,dt.join(content_means), dt.join(part_means), dt.join(kmeans_means)]\n",
    "test = test[:,:,dt.join(content_means), dt.join(part_means), dt.join(kmeans_means)]\n",
    "val = val[:,:,dt.join(content_means), dt.join(part_means), dt.join(kmeans_means)]"
   ]
  },
  {
   "cell_type": "markdown",
   "metadata": {},
   "source": [
    "### Handle Nulls"
   ]
  },
  {
   "cell_type": "code",
   "execution_count": 69,
   "metadata": {},
   "outputs": [
    {
     "data": {
      "text/plain": [
       "(0.6572752176613474, 0.6572752178101011, 0.6572752180632815)"
      ]
     },
     "execution_count": 69,
     "metadata": {},
     "output_type": "execute_result"
    }
   ],
   "source": [
    "avg_part_mean       = train[:,dt.mean(dt.f.part_mean)].to_numpy()[0][0]\n",
    "avg_content_id_mean = train[:,dt.mean(dt.f.content_mean)].to_numpy()[0][0]\n",
    "avg_kmeans_mean     = train[:,dt.mean(dt.f.kmeans_mean)].to_numpy()[0][0]\n",
    "\n",
    "avg_part_mean, avg_content_id_mean, avg_kmeans_mean"
   ]
  },
  {
   "cell_type": "code",
   "execution_count": 70,
   "metadata": {},
   "outputs": [],
   "source": [
    "train[dt.isna(dt.f.part_mean), dt.f.part_mean]       = avg_part_mean\n",
    "train[dt.isna(dt.f.content_mean), dt.f.content_mean] = avg_content_id_mean\n",
    "train[dt.isna(dt.f.kmeans_mean), dt.f.kmeans_mean]   = avg_kmeans_mean\n",
    "\n",
    "test[dt.isna(dt.f.part_mean), dt.f.part_mean]       = avg_part_mean\n",
    "test[dt.isna(dt.f.content_mean), dt.f.content_mean] = avg_content_id_mean\n",
    "test[dt.isna(dt.f.kmeans_mean), dt.f.kmeans_mean]   = avg_kmeans_mean\n",
    "\n",
    "val[dt.isna(dt.f.part_mean), dt.f.part_mean]       = avg_part_mean\n",
    "val[dt.isna(dt.f.content_mean), dt.f.content_mean] = avg_content_id_mean\n",
    "val[dt.isna(dt.f.kmeans_mean), dt.f.kmeans_mean]   = avg_kmeans_mean"
   ]
  },
  {
   "cell_type": "code",
   "execution_count": 71,
   "metadata": {},
   "outputs": [],
   "source": [
    "# # reorder columns\n",
    "# train = train[:,list(cols_def)]\n",
    "# test  = test[:,list(cols_def)]\n",
    "# val   = val[:,list(cols_def)]"
   ]
  },
  {
   "cell_type": "markdown",
   "metadata": {},
   "source": [
    "### Create Mapping Table"
   ]
  },
  {
   "cell_type": "code",
   "execution_count": 100,
   "metadata": {},
   "outputs": [
    {
     "name": "stderr",
     "output_type": "stream",
     "text": [
      "100%|██████████| 9/9 [00:03<00:00,  2.57it/s]\n"
     ]
    }
   ],
   "source": [
    "mapping_dict = build_mapping_dict(train, cols_def)"
   ]
  },
  {
   "cell_type": "code",
   "execution_count": 101,
   "metadata": {},
   "outputs": [],
   "source": [
    "# Save to pickle\n",
    "with open(mapping_dict_path, 'wb') as f:\n",
    "    pickle.dump(mapping_dict, f)"
   ]
  },
  {
   "cell_type": "markdown",
   "metadata": {},
   "source": [
    "### Write Input Files"
   ]
  },
  {
   "cell_type": "code",
   "execution_count": 107,
   "metadata": {},
   "outputs": [
    {
     "name": "stderr",
     "output_type": "stream",
     "text": [
      "100%|██████████| 7942/7942 [07:05<00:00, 18.68it/s]\n",
      "100%|██████████| 993/993 [00:54<00:00, 18.26it/s]\n",
      "100%|██████████| 993/993 [00:52<00:00, 18.76it/s]\n"
     ]
    }
   ],
   "source": [
    "datatable_to_ffm(train_data_path, train, cols_def, mapping_dict)\n",
    "datatable_to_ffm(test_data_path, test, cols_def, mapping_dict)\n",
    "datatable_to_ffm(val_data_path, val, cols_def, mapping_dict)"
   ]
  },
  {
   "cell_type": "markdown",
   "metadata": {},
   "source": [
    "<hr>"
   ]
  },
  {
   "cell_type": "markdown",
   "metadata": {},
   "source": [
    "# Train"
   ]
  },
  {
   "cell_type": "code",
   "execution_count": 108,
   "metadata": {},
   "outputs": [],
   "source": [
    "import xlearn"
   ]
  },
  {
   "cell_type": "code",
   "execution_count": null,
   "metadata": {},
   "outputs": [],
   "source": [
    "model_weight_path = 'model_weight.txt'\n",
    "model_save_path = 'model_dm.out'"
   ]
  },
  {
   "cell_type": "code",
   "execution_count": 114,
   "metadata": {},
   "outputs": [],
   "source": [
    "model = xlearn.create_ffm()\n",
    "model.setTrain(train_data_path)\n",
    "model.setValidate(val_data_path)\n",
    "model.setSigmoid()\n",
    "model.setTXTModel(model_weight_path)\n",
    "\n",
    "param = {\n",
    "    'task':'binary',\n",
    "    'lr':0.2,\n",
    "    'metric':'auc',\n",
    "    'epoch':10,\n",
    "    'opt': 'adagrad',\n",
    "    'nthread':7,\n",
    "    'lambda':0.0002,\n",
    "    'k':4\n",
    "}\n",
    "\n",
    "model.fit(param, model_save_path)"
   ]
  },
  {
   "cell_type": "markdown",
   "metadata": {},
   "source": [
    "<hr>"
   ]
  },
  {
   "cell_type": "markdown",
   "metadata": {},
   "source": [
    "# Test"
   ]
  },
  {
   "cell_type": "code",
   "execution_count": 123,
   "metadata": {},
   "outputs": [],
   "source": [
    "import time\n",
    "import sklearn.metrics\n",
    "import matplotlib.pyplot as plt"
   ]
  },
  {
   "cell_type": "code",
   "execution_count": 116,
   "metadata": {},
   "outputs": [],
   "source": [
    "result_file_path = 'res.txt'"
   ]
  },
  {
   "cell_type": "code",
   "execution_count": 127,
   "metadata": {},
   "outputs": [
    {
     "name": "stdout",
     "output_type": "stream",
     "text": [
      "5.160456657409668\n"
     ]
    }
   ],
   "source": [
    "model = xlearn.create_ffm()\n",
    "model.setTest(test_data_path)\n",
    "model.setSigmoid()\n",
    "\n",
    "s = time.time()\n",
    "\n",
    "model.predict(model_save_path, result_file_path)\n",
    "\n",
    "print(time.time()-s)"
   ]
  },
  {
   "cell_type": "markdown",
   "metadata": {},
   "source": [
    "### Test model performance"
   ]
  },
  {
   "cell_type": "code",
   "execution_count": 128,
   "metadata": {},
   "outputs": [],
   "source": [
    "true = []\n",
    "with open(test_data_path) as f:\n",
    "    for line in f:\n",
    "        true.append(int(float(line.split()[0])))\n",
    "\n",
    "res = []\n",
    "with open(result_file_path) as f:\n",
    "    for line in f:\n",
    "        res.append(float(line[:-1]))"
   ]
  },
  {
   "cell_type": "code",
   "execution_count": 129,
   "metadata": {},
   "outputs": [
    {
     "data": {
      "image/png": "[encoded data removed]",
      "text/plain": [
       "<Figure size 432x288 with 1 Axes>"
      ]
     },
     "metadata": {
      "needs_background": "light"
     },
     "output_type": "display_data"
    }
   ],
   "source": [
    "fpr, tpr, _ = sklearn.metrics.roc_curve(true,  res)\n",
    "auc = sklearn.metrics.roc_auc_score(true,  res)\n",
    "\n",
    "plt.plot(fpr,tpr)\n",
    "plt.title(f'AUC : {auc:.5f}')\n",
    "plt.show()"
   ]
  },
  {
   "cell_type": "code",
   "execution_count": null,
   "metadata": {},
   "outputs": [],
   "source": []
  },
  {
   "cell_type": "code",
   "execution_count": null,
   "metadata": {},
   "outputs": [],
   "source": []
  },
  {
   "cell_type": "code",
   "execution_count": null,
   "metadata": {},
   "outputs": [],
   "source": []
  },
  {
   "cell_type": "code",
   "execution_count": null,
   "metadata": {},
   "outputs": [],
   "source": []
  }
 ],
 "metadata": {
  "kernelspec": {
   "display_name": "Python 3",
   "language": "python",
   "name": "python3"
  },
  "language_info": {
   "codemirror_mode": {
    "name": "ipython",
    "version": 3
   },
   "file_extension": ".py",
   "mimetype": "text/x-python",
   "name": "python",
   "nbconvert_exporter": "python",
   "pygments_lexer": "ipython3",
   "version": "3.8.5"
  }
 },
 "nbformat": 4,
 "nbformat_minor": 4
}
