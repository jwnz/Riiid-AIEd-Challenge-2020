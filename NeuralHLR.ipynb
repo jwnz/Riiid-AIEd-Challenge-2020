{
 "cells": [
  {
   "cell_type": "markdown",
   "metadata": {},
   "source": [
    "# Neural Half-life Regression\n",
    "\n",
    "This is my attempt to implement a variation of Duolingo's Halflife Regression while leveraging Deep Learning. This idea was inspired by Zaidi et al.'s paper, [Adaptive Forgetting Curves for Spaced Repetition Language Learning](#https://link.springer.com/chapter/10.1007/978-3-030-52240-7_65).\n",
    "\n",
    "\n",
    "\n",
    "$$\\huge p = 2^{\\frac{−∆ \\cdot C}{h}}$$\n",
    "\n",
    "- $h$ and $C$, are encoders composed of 4 layers each, representing a learner's strength and a question's complexity respectively.\n",
    "- $∆$ is the time in days from the last time a student has seen some particular question or knowledge unit\n",
    "- $p$ is the probability of recall, and in this model is represented as a student's correct ratio of a particular tag (after clustering)."
   ]
  },
  {
   "cell_type": "code",
   "execution_count": 12,
   "metadata": {},
   "outputs": [],
   "source": [
    "%run preprocessor.ipynb"
   ]
  },
  {
   "cell_type": "code",
   "execution_count": 13,
   "metadata": {},
   "outputs": [],
   "source": [
    "import tensorflow as tf"
   ]
  },
  {
   "cell_type": "markdown",
   "metadata": {},
   "source": [
    "### Load and preprocess Data"
   ]
  },
  {
   "cell_type": "code",
   "execution_count": 35,
   "metadata": {},
   "outputs": [
    {
     "name": "stderr",
     "output_type": "stream",
     "text": [
      "100%|██████████| 911072/911072 [00:30<00:00, 29813.55it/s]\n",
      "100%|██████████| 101231/101231 [00:03<00:00, 30034.88it/s]\n"
     ]
    },
    {
     "data": {
      "text/plain": [
       "0"
      ]
     },
     "execution_count": 35,
     "metadata": {},
     "output_type": "execute_result"
    }
   ],
   "source": [
    "raw = dt.fread('../riiid_data/train.csv')\n",
    "\n",
    "\n",
    "train, test = time_series_split(raw, train_size=0.9, sample=0.01)\n",
    "train = train.to_pandas()\n",
    "test = test.to_pandas()\n",
    "\n",
    "train_user_ids = list(train.user_id)\n",
    "\n",
    "stats_tracker = StatsTracker()\n",
    "\n",
    "X   = create_train_data(train, stats_tracker)\n",
    "X_t = create_train_data(test, stats_tracker)\n",
    "\n",
    "del raw\n",
    "del train\n",
    "del test\n",
    "\n",
    "gc.collect()"
   ]
  },
  {
   "cell_type": "markdown",
   "metadata": {},
   "source": [
    "### Split Data\n",
    "\n",
    "Split the input data into `h`, `c`, and `d`, where `h` is composed of the columns specifically related to a particular student, `c` is composed of the columns specifically related to a particular questions, and `d` is composed of the time in which the student has seen the correlating tag."
   ]
  },
  {
   "cell_type": "code",
   "execution_count": 36,
   "metadata": {},
   "outputs": [],
   "source": [
    "# variables related to a student's memory strength\n",
    "h_cols = ['prior_question_elapsed_time','prior_question_had_explanation','user_correct_ratio','correct_streak','incorrect_streak',\n",
    "'user_total_question_count','part_correct_ratio','time_since_last_timestamp','time_since_last_lecture','previous_question_same_bundle',\n",
    "'previous_correct_and_same_bundle','user_part_correct_ratio','user_part_avg_elapsed_time','user_part_timestamp_diff','user_tag_correct_ratio',\n",
    "'user_tag_avg_elapsed_time','question_history','lecture_count','questions_since_last_lec','hardest_question_correct_ratio',\n",
    "'easiest_question_correct_ratio','smallest_pqet','largest_pqet','user_rating','highest_elo','lowest_elo','elo_uc']\n",
    "\n",
    "# variables rlated to a question's complexity\n",
    "c_cols = ['content_correct_ratio','tag_correct_ratio','content_rating','elo_cu','tag']\n",
    "\n",
    "h_col_ix = [i for i,c in enumerate(analysis_columns) if c in h_cols]\n",
    "c_col_ix = [i for i,c in enumerate(analysis_columns) if c in c_cols]"
   ]
  },
  {
   "cell_type": "code",
   "execution_count": 37,
   "metadata": {},
   "outputs": [],
   "source": [
    "Xh_train = X[np.ix_(X[:,0]!=-1, h_col_ix)]\n",
    "Xc_train = X[np.ix_(X[:,0]!=-1, c_col_ix)]\n",
    "Xd_train = X[np.ix_(X[:,0]!=-1, [25])]\n",
    "y_train  = X[X[:,0]!=-1, 23]\n",
    "\n",
    "\n",
    "Xh_test = X_t[np.ix_(X_t[:,0]!=-1, h_col_ix)]\n",
    "Xc_test = X_t[np.ix_(X_t[:,0]!=-1, c_col_ix)]\n",
    "Xd_test = X_t[np.ix_(X_t[:,0]!=-1, [25])]\n",
    "y_test  = X_t[X_t[:,0]!=-1, 23]\n",
    "\n",
    "# update\n",
    "y_train[y_train==-1] = 0.5\n",
    "Xd_train[Xd_train==-1] = 1\n",
    "\n",
    "y_test[y_test==-1] = 0.5\n",
    "Xd_test[Xd_test==-1] = 1"
   ]
  },
  {
   "cell_type": "code",
   "execution_count": 38,
   "metadata": {},
   "outputs": [
    {
     "data": {
      "text/plain": [
       "((893135, 26), (893135, 4))"
      ]
     },
     "execution_count": 38,
     "metadata": {},
     "output_type": "execute_result"
    }
   ],
   "source": [
    "Xh_train.shape, Xc_train.shape"
   ]
  },
  {
   "cell_type": "markdown",
   "metadata": {},
   "source": [
    "### Normalize \n",
    "\n",
    "The gradients seem to explode if we don't normalize the input data"
   ]
  },
  {
   "cell_type": "code",
   "execution_count": 39,
   "metadata": {},
   "outputs": [],
   "source": [
    "# get maxes and mins\n",
    "h_mmd = {}\n",
    "c_mmd = {}\n",
    "\n",
    "for i in range(Xh_train.shape[1]):\n",
    "    _min = Xh_train[Xh_train[:,i]!=-1,i].min()\n",
    "    _max = Xh_train[Xh_train[:,i]!=-1,i].max()\n",
    "    h_mmd[i] = {'min':_min, 'max':_max}\n",
    "for i in range(Xc_train.shape[1]):\n",
    "    _min = Xc_train[Xc_train[:,i]!=-1,i].min()\n",
    "    _max = Xc_train[Xc_train[:,i]!=-1,i].max()\n",
    "    c_mmd[i] = {'min':_min, 'max':_max}\n",
    "\n",
    "st = StatsTracker()\n",
    "for i in range(Xh_train.shape[-1]):\n",
    "    if i==0:\n",
    "        continue\n",
    "    Xh_train[:,i] = st.safe_divide(Xh_train[:,i] - h_mmd[i]['min'], h_mmd[i]['max']-h_mmd[i]['min'])\n",
    "    Xh_test[:,i]  = st.safe_divide(Xh_test[:,i] - h_mmd[i]['min'], h_mmd[i]['max']-h_mmd[i]['min'])\n",
    "\n",
    "for i in range(Xc_train.shape[-1]):\n",
    "    if i==0:\n",
    "        continue\n",
    "    Xc_train[:,i] = st.safe_divide(Xc_train[:,i] - c_mmd[i]['min'], c_mmd[i]['max']-c_mmd[i]['min'])\n",
    "    Xc_test[:,i]  = st.safe_divide(Xc_test[:,i] - c_mmd[i]['min'], c_mmd[i]['max']-c_mmd[i]['min'])"
   ]
  },
  {
   "cell_type": "markdown",
   "metadata": {},
   "source": [
    "### Construct the Model\n",
    "\n",
    "We use mean absolute error as it is inline with previous work."
   ]
  },
  {
   "cell_type": "code",
   "execution_count": 40,
   "metadata": {},
   "outputs": [],
   "source": [
    "tf.keras.backend.clear_session()"
   ]
  },
  {
   "cell_type": "code",
   "execution_count": 41,
   "metadata": {},
   "outputs": [],
   "source": [
    "class HLR(tf.keras.layers.Layer):\n",
    "    def __init__(self):\n",
    "        super(HLR, self).__init__()\n",
    "        self.sigma = tf.Variable(tf.constant(1.0e-10), trainable=False)\n",
    "\n",
    "    def call(self, input):\n",
    "        c = input[:,2:3]\n",
    "        d = tf.math.divide(input[:,1:2], 24.0)\n",
    "        h = input[:,0:1]\n",
    "        \n",
    "        p = tf.math.exp(-1.*tf.math.divide(d*c, tf.math.add(h, self.sigma)))\n",
    "        return p\n",
    "    \n",
    "    \n",
    "h_inputs = tf.keras.Input(shape=(Xh_train.shape[1],), name='h_inputs')\n",
    "d_inputs = tf.keras.Input(shape=(Xd_train.shape[1],), name='d_inputs')\n",
    "c_inputs = tf.keras.Input(shape=(Xc_train.shape[1],), name='c_inputs')\n",
    "\n",
    "h = tf.keras.layers.Dense(16, activation='relu')(h_inputs)\n",
    "h = tf.keras.layers.Dense(8, activation='relu')(h)\n",
    "h = tf.keras.layers.Dense(4, activation='relu')(h)\n",
    "h = tf.keras.layers.Dense(1, activation='sigmoid')(h)\n",
    "\n",
    "c = tf.keras.layers.Dense(4, activation='relu')(c_inputs)\n",
    "c = tf.keras.layers.Dense(2, activation='relu')(c)\n",
    "c = tf.keras.layers.Dense(1, activation='sigmoid')(c)\n",
    "\n",
    "x = tf.keras.layers.concatenate([h, d_inputs, c])\n",
    "p = HLR()(x)"
   ]
  },
  {
   "cell_type": "code",
   "execution_count": 42,
   "metadata": {},
   "outputs": [],
   "source": [
    "model = tf.keras.Model(\n",
    "    inputs=[h_inputs, d_inputs, c_inputs], \n",
    "    outputs=p, \n",
    "    name='NHLR')"
   ]
  },
  {
   "cell_type": "code",
   "execution_count": 43,
   "metadata": {},
   "outputs": [],
   "source": [
    "model.compile(\n",
    "#     loss=tf.keras.losses.BinaryCrossentropy(from_logits=True),\n",
    "    loss=tf.keras.losses.MeanAbsoluteError(),\n",
    "    optimizer=tf.keras.optimizers.Adam(0.001),\n",
    "    metrics=['mse',]\n",
    ")"
   ]
  },
  {
   "cell_type": "code",
   "execution_count": 44,
   "metadata": {},
   "outputs": [],
   "source": [
    "# model.summary()"
   ]
  },
  {
   "cell_type": "code",
   "execution_count": 45,
   "metadata": {},
   "outputs": [
    {
     "data": {
      "image/png": "[encoded data removed]",
      "text/plain": [
       "<IPython.core.display.Image object>"
      ]
     },
     "execution_count": 45,
     "metadata": {},
     "output_type": "execute_result"
    }
   ],
   "source": [
    "tf.keras.utils.plot_model(model, \"model.png\", show_shapes=True)"
   ]
  },
  {
   "cell_type": "markdown",
   "metadata": {},
   "source": [
    "### Train"
   ]
  },
  {
   "cell_type": "code",
   "execution_count": 46,
   "metadata": {
    "scrolled": true
   },
   "outputs": [
    {
     "name": "stdout",
     "output_type": "stream",
     "text": [
      "Epoch 1/50\n",
      "873/873 [==============================] - 1s 829us/step - loss: 0.3377 - mse: 0.1527 - val_loss: 0.3214 - val_mse: 0.1360\n",
      "Epoch 2/50\n",
      "873/873 [==============================] - 1s 742us/step - loss: 0.3062 - mse: 0.1233 - val_loss: 0.2943 - val_mse: 0.1111\n",
      "Epoch 3/50\n",
      "873/873 [==============================] - 1s 743us/step - loss: 0.2909 - mse: 0.1099 - val_loss: 0.2939 - val_mse: 0.1112\n",
      "Epoch 4/50\n",
      "873/873 [==============================] - 1s 744us/step - loss: 0.2900 - mse: 0.1091 - val_loss: 0.2944 - val_mse: 0.1118\n",
      "Epoch 5/50\n",
      "873/873 [==============================] - 1s 744us/step - loss: 0.2893 - mse: 0.1087 - val_loss: 0.2910 - val_mse: 0.1081\n",
      "Epoch 6/50\n",
      "873/873 [==============================] - 1s 765us/step - loss: 0.2885 - mse: 0.1084 - val_loss: 0.2940 - val_mse: 0.1085\n",
      "Epoch 7/50\n",
      "873/873 [==============================] - 1s 752us/step - loss: 0.2878 - mse: 0.1082 - val_loss: 0.2906 - val_mse: 0.1085\n",
      "Epoch 8/50\n",
      "873/873 [==============================] - 1s 757us/step - loss: 0.2872 - mse: 0.1079 - val_loss: 0.2885 - val_mse: 0.1066\n",
      "Epoch 9/50\n",
      "873/873 [==============================] - 1s 754us/step - loss: 0.2853 - mse: 0.1072 - val_loss: 0.2869 - val_mse: 0.1056\n",
      "Epoch 10/50\n",
      "873/873 [==============================] - 1s 753us/step - loss: 0.2834 - mse: 0.1065 - val_loss: 0.2836 - val_mse: 0.1038\n",
      "Epoch 11/50\n",
      "873/873 [==============================] - 1s 760us/step - loss: 0.2813 - mse: 0.1058 - val_loss: 0.2802 - val_mse: 0.1046\n",
      "Epoch 12/50\n",
      "873/873 [==============================] - 1s 741us/step - loss: 0.2783 - mse: 0.1052 - val_loss: 0.2776 - val_mse: 0.1038\n",
      "Epoch 13/50\n",
      "873/873 [==============================] - 1s 760us/step - loss: 0.2754 - mse: 0.1055 - val_loss: 0.2736 - val_mse: 0.0999\n",
      "Epoch 14/50\n",
      "873/873 [==============================] - 1s 746us/step - loss: 0.2725 - mse: 0.1047 - val_loss: 0.2700 - val_mse: 0.1007\n",
      "Epoch 15/50\n",
      "873/873 [==============================] - 1s 739us/step - loss: 0.2696 - mse: 0.1046 - val_loss: 0.2688 - val_mse: 0.1034\n",
      "Epoch 16/50\n",
      "873/873 [==============================] - 1s 767us/step - loss: 0.2670 - mse: 0.1036 - val_loss: 0.2653 - val_mse: 0.1011\n",
      "Epoch 17/50\n",
      "873/873 [==============================] - 1s 773us/step - loss: 0.2649 - mse: 0.1029 - val_loss: 0.2644 - val_mse: 0.1008\n",
      "Epoch 18/50\n",
      "873/873 [==============================] - 1s 747us/step - loss: 0.2634 - mse: 0.1026 - val_loss: 0.2622 - val_mse: 0.0981\n",
      "Epoch 19/50\n",
      "873/873 [==============================] - 1s 745us/step - loss: 0.2617 - mse: 0.1018 - val_loss: 0.2665 - val_mse: 0.0957\n",
      "Epoch 20/50\n",
      "873/873 [==============================] - 1s 771us/step - loss: 0.2610 - mse: 0.1015 - val_loss: 0.2594 - val_mse: 0.0991\n",
      "Epoch 21/50\n",
      "873/873 [==============================] - 1s 745us/step - loss: 0.2602 - mse: 0.1014 - val_loss: 0.2584 - val_mse: 0.0992\n",
      "Epoch 22/50\n",
      "873/873 [==============================] - 1s 763us/step - loss: 0.2599 - mse: 0.1024 - val_loss: 0.2589 - val_mse: 0.0958\n",
      "Epoch 23/50\n",
      "873/873 [==============================] - 1s 745us/step - loss: 0.2586 - mse: 0.1008 - val_loss: 0.2606 - val_mse: 0.1021\n",
      "Epoch 24/50\n",
      "873/873 [==============================] - 1s 742us/step - loss: 0.2590 - mse: 0.1018 - val_loss: 0.2574 - val_mse: 0.0971\n",
      "Epoch 25/50\n",
      "873/873 [==============================] - 1s 756us/step - loss: 0.2584 - mse: 0.1011 - val_loss: 0.2575 - val_mse: 0.0977\n",
      "Epoch 26/50\n",
      "873/873 [==============================] - 1s 758us/step - loss: 0.2578 - mse: 0.1008 - val_loss: 0.2569 - val_mse: 0.0971\n",
      "Epoch 27/50\n",
      "873/873 [==============================] - 1s 750us/step - loss: 0.2577 - mse: 0.1012 - val_loss: 0.2616 - val_mse: 0.1047\n",
      "Epoch 28/50\n",
      "873/873 [==============================] - 1s 749us/step - loss: 0.2573 - mse: 0.1012 - val_loss: 0.2566 - val_mse: 0.0955\n",
      "Epoch 29/50\n",
      "873/873 [==============================] - 1s 745us/step - loss: 0.2569 - mse: 0.1004 - val_loss: 0.2561 - val_mse: 0.0960\n",
      "Epoch 30/50\n",
      "873/873 [==============================] - 1s 751us/step - loss: 0.2566 - mse: 0.1002 - val_loss: 0.2566 - val_mse: 0.1005\n",
      "Epoch 31/50\n",
      "873/873 [==============================] - 1s 760us/step - loss: 0.2572 - mse: 0.1007 - val_loss: 0.2565 - val_mse: 0.0963\n",
      "Epoch 32/50\n",
      "873/873 [==============================] - 1s 756us/step - loss: 0.2561 - mse: 0.0992 - val_loss: 0.2586 - val_mse: 0.1003\n",
      "Epoch 33/50\n",
      "873/873 [==============================] - 1s 747us/step - loss: 0.2562 - mse: 0.1000 - val_loss: 0.2548 - val_mse: 0.0977\n",
      "Epoch 34/50\n",
      "873/873 [==============================] - 1s 759us/step - loss: 0.2566 - mse: 0.1006 - val_loss: 0.2549 - val_mse: 0.0971\n",
      "Epoch 35/50\n",
      "873/873 [==============================] - 1s 744us/step - loss: 0.2576 - mse: 0.1017 - val_loss: 0.2569 - val_mse: 0.0946\n",
      "Epoch 36/50\n",
      "873/873 [==============================] - 1s 759us/step - loss: 0.2564 - mse: 0.1003 - val_loss: 0.2556 - val_mse: 0.0951\n",
      "Epoch 37/50\n",
      "873/873 [==============================] - 1s 743us/step - loss: 0.2564 - mse: 0.1002 - val_loss: 0.2561 - val_mse: 0.0980\n",
      "Epoch 38/50\n",
      "873/873 [==============================] - 1s 741us/step - loss: 0.2566 - mse: 0.1001 - val_loss: 0.2593 - val_mse: 0.0953\n",
      "Epoch 00038: early stopping\n"
     ]
    }
   ],
   "source": [
    "early_stop = tf.keras.callbacks.EarlyStopping(monitor='val_loss', patience=5, verbose=1)\n",
    "\n",
    "history = model.fit(\n",
    "    {'h_inputs': Xh_train, 'd_inputs': Xd_train, 'c_inputs': Xc_train},\n",
    "    y_train,\n",
    "    batch_size=1024,\n",
    "    epochs=50,\n",
    "    validation_data=([Xh_test, Xd_test, Xc_test], [y_test]),\n",
    "    callbacks=[early_stop]\n",
    ")"
   ]
  },
  {
   "cell_type": "code",
   "execution_count": null,
   "metadata": {},
   "outputs": [],
   "source": []
  },
  {
   "cell_type": "code",
   "execution_count": 11,
   "metadata": {},
   "outputs": [],
   "source": [
    "model.save('HLR_model.model')"
   ]
  },
  {
   "cell_type": "code",
   "execution_count": null,
   "metadata": {},
   "outputs": [],
   "source": []
  },
  {
   "cell_type": "code",
   "execution_count": null,
   "metadata": {
    "scrolled": false
   },
   "outputs": [],
   "source": []
  },
  {
   "cell_type": "code",
   "execution_count": null,
   "metadata": {},
   "outputs": [],
   "source": []
  },
  {
   "cell_type": "code",
   "execution_count": null,
   "metadata": {},
   "outputs": [],
   "source": []
  },
  {
   "cell_type": "code",
   "execution_count": null,
   "metadata": {},
   "outputs": [],
   "source": []
  },
  {
   "cell_type": "code",
   "execution_count": null,
   "metadata": {},
   "outputs": [],
   "source": []
  },
  {
   "cell_type": "code",
   "execution_count": null,
   "metadata": {},
   "outputs": [],
   "source": []
  },
  {
   "cell_type": "code",
   "execution_count": null,
   "metadata": {},
   "outputs": [],
   "source": []
  },
  {
   "cell_type": "code",
   "execution_count": null,
   "metadata": {},
   "outputs": [],
   "source": []
  },
  {
   "cell_type": "code",
   "execution_count": null,
   "metadata": {},
   "outputs": [],
   "source": []
  },
  {
   "cell_type": "code",
   "execution_count": null,
   "metadata": {},
   "outputs": [],
   "source": []
  },
  {
   "cell_type": "code",
   "execution_count": null,
   "metadata": {},
   "outputs": [],
   "source": []
  },
  {
   "cell_type": "code",
   "execution_count": null,
   "metadata": {},
   "outputs": [],
   "source": []
  },
  {
   "cell_type": "code",
   "execution_count": null,
   "metadata": {},
   "outputs": [],
   "source": []
  },
  {
   "cell_type": "code",
   "execution_count": null,
   "metadata": {},
   "outputs": [],
   "source": []
  }
 ],
 "metadata": {
  "kernelspec": {
   "display_name": "Python 3",
   "language": "python",
   "name": "python3"
  },
  "language_info": {
   "codemirror_mode": {
    "name": "ipython",
    "version": 3
   },
   "file_extension": ".py",
   "mimetype": "text/x-python",
   "name": "python",
   "nbconvert_exporter": "python",
   "pygments_lexer": "ipython3",
   "version": "3.8.5"
  }
 },
 "nbformat": 4,
 "nbformat_minor": 4
}
