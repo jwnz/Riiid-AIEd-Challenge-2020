{
 "cells": [
  {
   "cell_type": "code",
   "execution_count": 2,
   "metadata": {},
   "outputs": [],
   "source": [
    "import pandas as pd\n",
    "import numpy as np\n",
    "import sklearn.cluster\n",
    "import matplotlib.pyplot as plt"
   ]
  },
  {
   "cell_type": "markdown",
   "metadata": {},
   "source": [
    "### Kmeans : Cluster Questions to Replace Tags"
   ]
  },
  {
   "cell_type": "code",
   "execution_count": 18,
   "metadata": {},
   "outputs": [],
   "source": [
    "# Loading data\n",
    "questions = pd.read_csv('../riiid_data/questions.csv')\n",
    "questions.columns = ['content_id','bundle_id','correct_answer','part','tags']\n",
    "questions = questions[['content_id', 'part', 'tags']].sort_values(by='content_id')\n",
    "questions.tags = questions.tags.map(lambda x: str(x).split())"
   ]
  },
  {
   "cell_type": "code",
   "execution_count": 25,
   "metadata": {},
   "outputs": [],
   "source": [
    "# prepare input data for custering\n",
    "tags = []\n",
    "for t in questions.tags:\n",
    "    tags+=t\n",
    "tags = [int(x) for x in set(tags) if x!='nan']\n",
    "\n",
    "f = lambda x: 1/(1 + np.exp(-x))\n",
    "v = np.zeros((13523, 187), dtype=np.float32)\n",
    "for content,part,tag_list in questions.values:\n",
    "    if tag_list[0]=='nan':\n",
    "        continue\n",
    "\n",
    "    tag_list = list(map(int, tag_list))\n",
    "    for tag in range(1,188):\n",
    "        if tag in tag_list:\n",
    "            v[content,tag-1] = 1\n",
    "\n",
    "kmeans = sklearn.cluster.KMeans(n_clusters=20, random_state=93)\n",
    "\n",
    "kmeans.fit(v)\n",
    "\n",
    "kmeans_labels = {content_id:label for content_id,label in zip(questions.content_id,kmeans.labels_)}"
   ]
  },
  {
   "cell_type": "code",
   "execution_count": 26,
   "metadata": {},
   "outputs": [
    {
     "data": {
      "image/png": "[encoded data removed]",
      "text/plain": [
       "<Figure size 432x288 with 1 Axes>"
      ]
     },
     "metadata": {
      "needs_background": "light"
     },
     "output_type": "display_data"
    }
   ],
   "source": [
    "import collections\n",
    "import matplotlib.pyplot as plt\n",
    "x = collections.Counter(kmeans.labels_).keys()\n",
    "y = collections.Counter(kmeans.labels_).values()\n",
    "plt.xticks([i for i in range(20)])\n",
    "plt.bar(x,y)\n",
    "plt.show()"
   ]
  },
  {
   "cell_type": "code",
   "execution_count": null,
   "metadata": {},
   "outputs": [],
   "source": [
    "with open('../kmeans_labels.pkl', 'wb') as f:\n",
    "    pickle.dump(kmeans_labels, f)"
   ]
  },
  {
   "cell_type": "markdown",
   "metadata": {},
   "source": [
    "<hr>"
   ]
  },
  {
   "cell_type": "markdown",
   "metadata": {},
   "source": [
    "### Bayesian Knowledge Tracing : build input\n",
    "\n",
    "Building input for use with the [hmm-scalable](#https://github.com/myudelson/hmm-scalable) <i>command line tool</i>. The implementation is described in the authors' [Individualized Bayesian Knowledge Tracing Models](#https://link.springer.com/chapter/10.1007/978-3-642-39112-5_18) paper.\n",
    "\n",
    "The goal is to use the tool to create individualized <i>slip</i> and <i>guess</i> parameters for each user, tag, and/or question.\n",
    "\n",
    "<br><br>\n",
    "Example script to run command line tool:\n",
    "```Bash\n",
    "./trainhmm -s 1.1 -i 1000 -U g,g -m 1 -d ~ -p 1 -P 1 bkt_input.csv model.txt predict.txt\n",
    "```"
   ]
  },
  {
   "cell_type": "code",
   "execution_count": 1,
   "metadata": {},
   "outputs": [
    {
     "data": {
      "text/html": [
       "<style type='text/css'>\n",
       ".datatable table.frame { margin-bottom: 0; }\n",
       ".datatable table.frame thead { border-bottom: none; }\n",
       ".datatable table.frame tr.coltypes td {  color: #FFFFFF;  line-height: 6px;  padding: 0 0.5em;}\n",
       ".datatable .bool    { background: #DDDD99; }\n",
       ".datatable .object  { background: #565656; }\n",
       ".datatable .int     { background: #5D9E5D; }\n",
       ".datatable .float   { background: #4040CC; }\n",
       ".datatable .str     { background: #CC4040; }\n",
       ".datatable .row_index {  background: var(--jp-border-color3);  border-right: 1px solid var(--jp-border-color0);  color: var(--jp-ui-font-color3);  font-size: 9px;}\n",
       ".datatable .frame tr.coltypes .row_index {  background: var(--jp-border-color0);}\n",
       ".datatable th:nth-child(2) { padding-left: 12px; }\n",
       ".datatable .hellipsis {  color: var(--jp-cell-editor-border-color);}\n",
       ".datatable .vellipsis {  background: var(--jp-layout-color0);  color: var(--jp-cell-editor-border-color);}\n",
       ".datatable .na {  color: var(--jp-cell-editor-border-color);  font-size: 80%;}\n",
       ".datatable .footer { font-size: 9px; }\n",
       ".datatable .frame_dimensions {  background: var(--jp-border-color3);  border-top: 1px solid var(--jp-border-color0);  color: var(--jp-ui-font-color3);  display: inline-block;  opacity: 0.6;  padding: 1px 10px 1px 5px;}\n",
       "</style>\n"
      ],
      "text/plain": [
       "<IPython.core.display.HTML object>"
      ]
     },
     "metadata": {},
     "output_type": "display_data"
    }
   ],
   "source": [
    "%run preprocessor.ipynb"
   ]
  },
  {
   "cell_type": "code",
   "execution_count": 11,
   "metadata": {},
   "outputs": [
    {
     "data": {
      "text/plain": [
       "76"
      ]
     },
     "execution_count": 11,
     "metadata": {},
     "output_type": "execute_result"
    }
   ],
   "source": [
    "df = dt.fread(f'../riiid_data/train.csv', columns={\n",
    "    'timestamp':dt.int64,\n",
    "    'user_id':dt.int32,\n",
    "    'content_id':dt.int32,\n",
    "    'content_type_id':dt.bool8,\n",
    "    'answered_correctly':dt.int32})\n",
    "\n",
    "df = df[dt.f.content_type_id==0, (dt.f.timestamp,\n",
    "                                    dt.f.user_id,\n",
    "                                    dt.f.content_id,\n",
    "                                    dt.int8(dt.f.answered_correctly))]\n",
    "\n",
    "df[dt.f.answered_correctly==0,dt.update(answered_correctly=2)]\n",
    "\n",
    "df, _ = time_series_split(df, train_size=0.9, sample=1.0)\n",
    "del _\n",
    "gc.collect()"
   ]
  },
  {
   "cell_type": "code",
   "execution_count": 13,
   "metadata": {},
   "outputs": [],
   "source": [
    "questions = pd.read_csv('../riiid_data/questions.csv')[['question_id', 'part', 'tags', 'bundle_id']]\n",
    "questions.tags = questions.tags.map(lambda x: str(x).split())\n",
    "\n",
    "df = df.to_pandas()\n",
    "df['tags'] = df['content_id'].map({q:lst for q,lst in questions[['question_id', 'tags']].values})"
   ]
  },
  {
   "cell_type": "code",
   "execution_count": 15,
   "metadata": {},
   "outputs": [
    {
     "data": {
      "text/html": [
       "<div>\n",
       "<style scoped>\n",
       "    .dataframe tbody tr th:only-of-type {\n",
       "        vertical-align: middle;\n",
       "    }\n",
       "\n",
       "    .dataframe tbody tr th {\n",
       "        vertical-align: top;\n",
       "    }\n",
       "\n",
       "    .dataframe thead th {\n",
       "        text-align: right;\n",
       "    }\n",
       "</style>\n",
       "<table border=\"1\" class=\"dataframe\">\n",
       "  <thead>\n",
       "    <tr style=\"text-align: right;\">\n",
       "      <th></th>\n",
       "      <th>timestamp</th>\n",
       "      <th>user_id</th>\n",
       "      <th>content_id</th>\n",
       "      <th>answered_correctly</th>\n",
       "      <th>tags</th>\n",
       "    </tr>\n",
       "  </thead>\n",
       "  <tbody>\n",
       "    <tr>\n",
       "      <th>0</th>\n",
       "      <td>0</td>\n",
       "      <td>115</td>\n",
       "      <td>5692</td>\n",
       "      <td>1</td>\n",
       "      <td>[151]</td>\n",
       "    </tr>\n",
       "    <tr>\n",
       "      <th>1</th>\n",
       "      <td>56943</td>\n",
       "      <td>115</td>\n",
       "      <td>5716</td>\n",
       "      <td>1</td>\n",
       "      <td>[168]</td>\n",
       "    </tr>\n",
       "    <tr>\n",
       "      <th>2</th>\n",
       "      <td>118363</td>\n",
       "      <td>115</td>\n",
       "      <td>128</td>\n",
       "      <td>1</td>\n",
       "      <td>[131, 149, 92]</td>\n",
       "    </tr>\n",
       "    <tr>\n",
       "      <th>3</th>\n",
       "      <td>131167</td>\n",
       "      <td>115</td>\n",
       "      <td>7860</td>\n",
       "      <td>1</td>\n",
       "      <td>[131, 104, 81]</td>\n",
       "    </tr>\n",
       "    <tr>\n",
       "      <th>4</th>\n",
       "      <td>137965</td>\n",
       "      <td>115</td>\n",
       "      <td>7922</td>\n",
       "      <td>1</td>\n",
       "      <td>[131, 149, 92]</td>\n",
       "    </tr>\n",
       "  </tbody>\n",
       "</table>\n",
       "</div>"
      ],
      "text/plain": [
       "   timestamp  user_id  content_id  answered_correctly            tags\n",
       "0          0      115        5692                   1           [151]\n",
       "1      56943      115        5716                   1           [168]\n",
       "2     118363      115         128                   1  [131, 149, 92]\n",
       "3     131167      115        7860                   1  [131, 104, 81]\n",
       "4     137965      115        7922                   1  [131, 149, 92]"
      ]
     },
     "execution_count": 15,
     "metadata": {},
     "output_type": "execute_result"
    }
   ],
   "source": [
    "df.head()"
   ]
  },
  {
   "cell_type": "markdown",
   "metadata": {},
   "source": [
    "### Write input to file"
   ]
  },
  {
   "cell_type": "code",
   "execution_count": null,
   "metadata": {},
   "outputs": [],
   "source": [
    "with open('bkt_input.csv', 'w') as f:\n",
    "    for row in df.values:\n",
    "        user = row[1]\n",
    "        content = row[2]\n",
    "        correct = row[3]\n",
    "        tags = row[4]\n",
    "        if len(tags) > 0 and tags[0] != '-1':\n",
    "            tags = '~'.join(tags)\n",
    "        else:\n",
    "            tags = '.'\n",
    "\n",
    "\n",
    "        f.write(f'{correct}\\t{user}\\t{content}\\t{tags}\\n')"
   ]
  },
  {
   "cell_type": "markdown",
   "metadata": {},
   "source": [
    "### Reading model file \n",
    "\n",
    "Store the BKT model parameters in a dictionary for mapping and use within LGBM\n",
    "\n",
    "- ps : probability of knowing a knowledge unit, but incorrectly answering the question\n",
    "- pg : probability of not knowing a knowledge unit, but guessing the question corectly\n",
    "- pt : probability of a student mastering the knowledge unit after practicing\n",
    "- plo: probability the skill was already known"
   ]
  },
  {
   "cell_type": "code",
   "execution_count": 19,
   "metadata": {},
   "outputs": [],
   "source": [
    "skills_dict = {}\n",
    "last_row = None\n",
    "\n",
    "with open('../old/bkt_model.txt', 'r') as f:\n",
    "    next(f);next(f);next(f);next(f);next(f);next(f);next(f)\n",
    "    \n",
    "    for line in f:\n",
    "        row = line[:-1].split('\\t')\n",
    "        if len(row) == 2:\n",
    "            skills_dict[row[1]] = {'plo':None, 'pt':None, 'ps':None, 'pg':None}\n",
    "            last_row = row[1]\n",
    "        else:\n",
    "            if row[0] == 'PI':\n",
    "                skills_dict[last_row]['plo'] = row[1]\n",
    "            if row[0] == 'A':\n",
    "                skills_dict[last_row]['pt'] = row[3]\n",
    "            if row[0] == 'B':\n",
    "                skills_dict[last_row]['ps'] = row[2]\n",
    "                skills_dict[last_row]['pg'] = row[3]"
   ]
  },
  {
   "cell_type": "code",
   "execution_count": 24,
   "metadata": {},
   "outputs": [
    {
     "data": {
      "text/plain": [
       "{'plo': '0.6911548620',\n",
       " 'pt': '0.5272952879',\n",
       " 'ps': '0.1243009788',\n",
       " 'pg': '0.3000000000'}"
      ]
     },
     "execution_count": 24,
     "metadata": {},
     "output_type": "execute_result"
    }
   ],
   "source": [
    "skills_dict['149']"
   ]
  },
  {
   "cell_type": "code",
   "execution_count": null,
   "metadata": {},
   "outputs": [],
   "source": []
  },
  {
   "cell_type": "code",
   "execution_count": null,
   "metadata": {},
   "outputs": [],
   "source": []
  },
  {
   "cell_type": "code",
   "execution_count": null,
   "metadata": {},
   "outputs": [],
   "source": []
  }
 ],
 "metadata": {
  "kernelspec": {
   "display_name": "Python 3",
   "language": "python",
   "name": "python3"
  },
  "language_info": {
   "codemirror_mode": {
    "name": "ipython",
    "version": 3
   },
   "file_extension": ".py",
   "mimetype": "text/x-python",
   "name": "python",
   "nbconvert_exporter": "python",
   "pygments_lexer": "ipython3",
   "version": "3.8.5"
  }
 },
 "nbformat": 4,
 "nbformat_minor": 4
}
